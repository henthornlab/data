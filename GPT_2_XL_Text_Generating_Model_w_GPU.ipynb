{
  "nbformat": 4,
  "nbformat_minor": 0,
  "metadata": {
    "colab": {
      "name": "GPT-2 XL Text-Generating Model w/ GPU",
      "provenance": [],
      "collapsed_sections": [],
      "include_colab_link": true
    },
    "kernelspec": {
      "name": "python3",
      "display_name": "Python 3"
    },
    "accelerator": "GPU"
  },
  "cells": [
    {
      "cell_type": "markdown",
      "metadata": {
        "id": "view-in-github",
        "colab_type": "text"
      },
      "source": [
        "<a href=\"https://colab.research.google.com/github/henthornlab/data/blob/master/GPT_2_XL_Text_Generating_Model_w_GPU.ipynb\" target=\"_parent\"><img src=\"https://colab.research.google.com/assets/colab-badge.svg\" alt=\"Open In Colab\"/></a>"
      ]
    },
    {
      "cell_type": "markdown",
      "metadata": {
        "id": "H7LoMj4GA4n_",
        "colab_type": "text"
      },
      "source": [
        "#  Train a GPT-2 Text-Generating Model w/ GPU For Free \n",
        "\n",
        "by [Max Woolf](http://minimaxir.com)\n",
        "\n",
        "*Last updated: November 10th, 2019*\n",
        "\n",
        "Retrain an advanced text generating neural network on any text dataset **for free on a GPU using Collaboratory** using `gpt-2-simple`!\n",
        "\n",
        "For more about `gpt-2-simple`, you can visit [this GitHub repository](https://github.com/minimaxir/gpt-2-simple).\n",
        "\n",
        "\n",
        "To get started:\n",
        "\n",
        "1. Copy this notebook to your Google Drive to keep it and save your changes. (File -> Save a Copy in Drive)\n",
        "2. Make sure you're running the notebook in Google Chrome.\n",
        "3. Run the cells below:\n"
      ]
    },
    {
      "cell_type": "code",
      "metadata": {
        "id": "KBkpRgBCBS2_",
        "colab_type": "code",
        "outputId": "c5af2967-3eee-4006-9532-71f8f2ad2d2a",
        "colab": {
          "base_uri": "https://localhost:8080/",
          "height": 170
        }
      },
      "source": [
        "%tensorflow_version 1.x\n",
        "!pip install -q gpt-2-simple\n",
        "import gpt_2_simple as gpt2\n",
        "from datetime import datetime\n",
        "from google.colab import files"
      ],
      "execution_count": 1,
      "outputs": [
        {
          "output_type": "stream",
          "text": [
            "  Building wheel for gpt-2-simple (setup.py) ... \u001b[?25l\u001b[?25hdone\n",
            "WARNING:tensorflow:\n",
            "The TensorFlow contrib module will not be included in TensorFlow 2.0.\n",
            "For more information, please see:\n",
            "  * https://github.com/tensorflow/community/blob/master/rfcs/20180907-contrib-sunset.md\n",
            "  * https://github.com/tensorflow/addons\n",
            "  * https://github.com/tensorflow/io (for I/O related ops)\n",
            "If you depend on functionality not listed there, please file an issue.\n",
            "\n"
          ],
          "name": "stdout"
        }
      ]
    },
    {
      "cell_type": "markdown",
      "metadata": {
        "id": "Bj2IJLHP3KwE",
        "colab_type": "text"
      },
      "source": [
        "## GPU\n",
        "\n",
        "Colaboratory uses either a Nvidia T4 GPU or an Nvidia K80 GPU. The T4 is slightly faster than the old K80 for training GPT-2, and has more memory allowing you to train the larger GPT-2 models and generate more text.\n",
        "\n",
        "You can verify which GPU is active by running the cell below."
      ]
    },
    {
      "cell_type": "code",
      "metadata": {
        "id": "sUmTooTW3osf",
        "colab_type": "code",
        "outputId": "f5f112ad-2e3d-419b-cde8-ab7c0712f026",
        "colab": {
          "base_uri": "https://localhost:8080/",
          "height": 306
        }
      },
      "source": [
        "!nvidia-smi"
      ],
      "execution_count": 0,
      "outputs": [
        {
          "output_type": "stream",
          "text": [
            "Sat Dec 21 01:07:24 2019       \n",
            "+-----------------------------------------------------------------------------+\n",
            "| NVIDIA-SMI 440.44       Driver Version: 418.67       CUDA Version: 10.1     |\n",
            "|-------------------------------+----------------------+----------------------+\n",
            "| GPU  Name        Persistence-M| Bus-Id        Disp.A | Volatile Uncorr. ECC |\n",
            "| Fan  Temp  Perf  Pwr:Usage/Cap|         Memory-Usage | GPU-Util  Compute M. |\n",
            "|===============================+======================+======================|\n",
            "|   0  Tesla P100-PCIE...  Off  | 00000000:00:04.0 Off |                    0 |\n",
            "| N/A   34C    P0    26W / 250W |      0MiB / 16280MiB |      0%      Default |\n",
            "+-------------------------------+----------------------+----------------------+\n",
            "                                                                               \n",
            "+-----------------------------------------------------------------------------+\n",
            "| Processes:                                                       GPU Memory |\n",
            "|  GPU       PID   Type   Process name                             Usage      |\n",
            "|=============================================================================|\n",
            "|  No running processes found                                                 |\n",
            "+-----------------------------------------------------------------------------+\n"
          ],
          "name": "stdout"
        }
      ]
    },
    {
      "cell_type": "markdown",
      "metadata": {
        "id": "0wXB05bPDYxS",
        "colab_type": "text"
      },
      "source": [
        "## Downloading GPT-2\n",
        "\n",
        "If you're retraining a model on new text, you need to download the GPT-2 model first. \n",
        "\n",
        "There are three released sizes of GPT-2:\n",
        "\n",
        "* `124M` (default): the \"small\" model, 500MB on disk.\n",
        "* `355M`: the \"medium\" model, 1.5GB on disk.\n",
        "* `774M`: the \"large\" model, cannot currently be finetuned with Colaboratory but can be used to generate text from the pretrained model (see later in Notebook)\n",
        "* `1558M`: the \"extra large\", true model. Will not work if a K80 GPU is attached to the notebook. (like `774M`, it cannot be finetuned).\n",
        "\n",
        "Larger models have more knowledge, but take longer to finetune and longer to generate text. You can specify which base model to use by changing `model_name` in the cells below.\n",
        "\n",
        "The next cell downloads it from Google Cloud Storage and saves it in the Colaboratory VM at `/models/<model_name>`.\n",
        "\n",
        "This model isn't permanently saved in the Colaboratory VM; you'll have to redownload it if you want to retrain it at a later time."
      ]
    },
    {
      "cell_type": "markdown",
      "metadata": {
        "id": "QQAN3M6RT7Kj",
        "colab_type": "text"
      },
      "source": [
        "## Generate Text From The Pretrained Model\n",
        "\n",
        "If you want to generate text from the pretrained model, not a finetuned model, pass `model_name` to `gpt2.load_gpt2()` and `gpt2.generate()`.\n",
        "\n",
        "This is currently the only way to generate text from the 774M or 1558M models with this notebook."
      ]
    },
    {
      "cell_type": "code",
      "metadata": {
        "id": "hsUd_jHgUZnD",
        "colab_type": "code",
        "outputId": "4f12db9e-36d4-4af6-bd15-aeb3683c8b0c",
        "colab": {
          "base_uri": "https://localhost:8080/",
          "height": 136
        }
      },
      "source": [
        "model_name = \"1558M\"\n",
        "\n",
        "gpt2.download_gpt2(model_name=model_name)"
      ],
      "execution_count": 7,
      "outputs": [
        {
          "output_type": "stream",
          "text": [
            "Fetching checkpoint: 1.05Mit [00:00, 315Mit/s]                                                      \n",
            "Fetching encoder.json: 1.05Mit [00:00, 139Mit/s]                                                    \n",
            "Fetching hparams.json: 1.05Mit [00:00, 321Mit/s]                                                    \n",
            "Fetching model.ckpt.data-00000-of-00001: 6.23Git [02:05, 49.5Mit/s]                                 \n",
            "Fetching model.ckpt.index: 1.05Mit [00:00, 217Mit/s]                                                \n",
            "Fetching model.ckpt.meta: 2.10Mit [00:00, 196Mit/s]                                                 \n",
            "Fetching vocab.bpe: 1.05Mit [00:00, 166Mit/s]                                                       \n"
          ],
          "name": "stderr"
        }
      ]
    },
    {
      "cell_type": "code",
      "metadata": {
        "id": "BAe4NpKNUj2C",
        "colab_type": "code",
        "outputId": "e01bcfee-9439-4f4a-e614-ce4196bba996",
        "colab": {
          "base_uri": "https://localhost:8080/",
          "height": 51
        }
      },
      "source": [
        "sess = gpt2.start_tf_sess()\n",
        "\n",
        "gpt2.load_gpt2(sess, model_name=model_name)"
      ],
      "execution_count": 8,
      "outputs": [
        {
          "output_type": "stream",
          "text": [
            "Loading pretrained model models/1558M/model.ckpt\n",
            "INFO:tensorflow:Restoring parameters from models/1558M/model.ckpt\n"
          ],
          "name": "stdout"
        }
      ]
    },
    {
      "cell_type": "code",
      "metadata": {
        "id": "Tfz_U5YJCyfY",
        "colab_type": "code",
        "outputId": "03214152-3b73-4c6b-da47-8ff243611ff7",
        "colab": {
          "base_uri": "https://localhost:8080/",
          "height": 374
        }
      },
      "source": [
        "team_names = \" Team Storm \\n Taco Bros \\n Goose Busters \\n Bubble Bots \\n Dancing Nerd Herd \\n Not the Droids \\n The Battle Bots \\n Brickmasters \\n Hoosier Girlz \\n Robotic Chickens \\n The Food Ninjas \\n Cyber Hawks \\n Fruit Salad \\n The Smart Cookies \\n Orion Avengers \\n Cannibal Tunas \\n Blue Cheesy Flamingos \\n Pink Pajama Peeps \\n World Changers \\n Positive Aftermath \\n Demolition Ducks\"\n",
        "print(team_names)"
      ],
      "execution_count": 9,
      "outputs": [
        {
          "output_type": "stream",
          "text": [
            " Team Storm \n",
            " Taco Bros \n",
            " Goose Busters \n",
            " Bubble Bots \n",
            " Dancing Nerd Herd \n",
            " Not the Droids \n",
            " The Battle Bots \n",
            " Brickmasters \n",
            " Hoosier Girlz \n",
            " Robotic Chickens \n",
            " The Food Ninjas \n",
            " Cyber Hawks \n",
            " Fruit Salad \n",
            " The Smart Cookies \n",
            " Orion Avengers \n",
            " Cannibal Tunas \n",
            " Blue Cheesy Flamingos \n",
            " Pink Pajama Peeps \n",
            " World Changers \n",
            " Positive Aftermath \n",
            " Demolition Ducks\n"
          ],
          "name": "stdout"
        }
      ]
    },
    {
      "cell_type": "code",
      "metadata": {
        "id": "-xInIZKaU104",
        "colab_type": "code",
        "outputId": "6bbf827b-f9c9-4f41-cf38-d20e20ad3ab8",
        "colab": {
          "base_uri": "https://localhost:8080/",
          "height": 1000
        }
      },
      "source": [
        "gpt2.generate(sess,\n",
        "              model_name=model_name,\n",
        "              prefix=team_names,\n",
        "              length=60,\n",
        "              temperature=0.7,\n",
        "              top_p=0.9,\n",
        "              nsamples=5,\n",
        "              batch_size=5\n",
        "              )"
      ],
      "execution_count": 10,
      "outputs": [
        {
          "output_type": "stream",
          "text": [
            "WARNING:tensorflow:From /usr/local/lib/python3.6/dist-packages/gpt_2_simple/src/sample.py:32: where (from tensorflow.python.ops.array_ops) is deprecated and will be removed in a future version.\n",
            "Instructions for updating:\n",
            "Use tf.where in 2.0, which has the same broadcast rule as np.where\n",
            " Team Storm \n",
            " Taco Bros \n",
            " Goose Busters \n",
            " Bubble Bots \n",
            " Dancing Nerd Herd \n",
            " Not the Droids \n",
            " The Battle Bots \n",
            " Brickmasters \n",
            " Hoosier Girlz \n",
            " Robotic Chickens \n",
            " The Food Ninjas \n",
            " Cyber Hawks \n",
            " Fruit Salad \n",
            " The Smart Cookies \n",
            " Orion Avengers \n",
            " Cannibal Tunas \n",
            " Blue Cheesy Flamingos \n",
            " Pink Pajama Peeps \n",
            " World Changers \n",
            " Positive Aftermath \n",
            " Demolition Ducks \n",
            " The Thunderbirds \n",
            " The Powerpuff Girls \n",
            " Rocket Power \n",
            " Real Ghostbusters \n",
            " The Powerpuff Girls (2016) \n",
            " The Powerpuff Girls (2016) (2008) \n",
            " The Powerpuff Girls (2016) (2016) \n",
            " The Powerpuff Girls (2016\n",
            "====================\n",
            " Team Storm \n",
            " Taco Bros \n",
            " Goose Busters \n",
            " Bubble Bots \n",
            " Dancing Nerd Herd \n",
            " Not the Droids \n",
            " The Battle Bots \n",
            " Brickmasters \n",
            " Hoosier Girlz \n",
            " Robotic Chickens \n",
            " The Food Ninjas \n",
            " Cyber Hawks \n",
            " Fruit Salad \n",
            " The Smart Cookies \n",
            " Orion Avengers \n",
            " Cannibal Tunas \n",
            " Blue Cheesy Flamingos \n",
            " Pink Pajama Peeps \n",
            " World Changers \n",
            " Positive Aftermath \n",
            " Demolition Ducks \n",
            " Astro Bobs \n",
            " Bad Cop \n",
            " Evil Carl \n",
            " Foxy Lady \n",
            "Greater Good \n",
            "Wacky Racers \n",
            "Fruit War \n",
            "Astro Gnomes \n",
            "Blast Off \n",
            "Bubble Bobs \n",
            "Turtle Trouble \n",
            "L\n",
            "====================\n",
            " Team Storm \n",
            " Taco Bros \n",
            " Goose Busters \n",
            " Bubble Bots \n",
            " Dancing Nerd Herd \n",
            " Not the Droids \n",
            " The Battle Bots \n",
            " Brickmasters \n",
            " Hoosier Girlz \n",
            " Robotic Chickens \n",
            " The Food Ninjas \n",
            " Cyber Hawks \n",
            " Fruit Salad \n",
            " The Smart Cookies \n",
            " Orion Avengers \n",
            " Cannibal Tunas \n",
            " Blue Cheesy Flamingos \n",
            " Pink Pajama Peeps \n",
            " World Changers \n",
            " Positive Aftermath \n",
            " Demolition Ducks \n",
            "  \"The Rocket Raccoons\"\n",
            " \"The Swerve\"\n",
            "\"The Drop\"\n",
            "\"The Bouncing Ball\"\n",
            "\"The Quacken\"\n",
            "\"The Stump\"\n",
            "\"The Rodeo\"\n",
            "\"The Swerve\"\n",
            "\"The Drop\n",
            "====================\n",
            " Team Storm \n",
            " Taco Bros \n",
            " Goose Busters \n",
            " Bubble Bots \n",
            " Dancing Nerd Herd \n",
            " Not the Droids \n",
            " The Battle Bots \n",
            " Brickmasters \n",
            " Hoosier Girlz \n",
            " Robotic Chickens \n",
            " The Food Ninjas \n",
            " Cyber Hawks \n",
            " Fruit Salad \n",
            " The Smart Cookies \n",
            " Orion Avengers \n",
            " Cannibal Tunas \n",
            " Blue Cheesy Flamingos \n",
            " Pink Pajama Peeps \n",
            " World Changers \n",
            " Positive Aftermath \n",
            " Demolition Ducks \n",
            " The Trash Busters \n",
            " M.O.D.O.K. \n",
            "The Peanut Butter Sniffers \n",
            "The Hoverbots \n",
            "The P.E.P.A.S. \n",
            "The Beagle Boys \n",
            "The Lizards \n",
            "The Flying\n",
            "====================\n",
            " Team Storm \n",
            " Taco Bros \n",
            " Goose Busters \n",
            " Bubble Bots \n",
            " Dancing Nerd Herd \n",
            " Not the Droids \n",
            " The Battle Bots \n",
            " Brickmasters \n",
            " Hoosier Girlz \n",
            " Robotic Chickens \n",
            " The Food Ninjas \n",
            " Cyber Hawks \n",
            " Fruit Salad \n",
            " The Smart Cookies \n",
            " Orion Avengers \n",
            " Cannibal Tunas \n",
            " Blue Cheesy Flamingos \n",
            " Pink Pajama Peeps \n",
            " World Changers \n",
            " Positive Aftermath \n",
            " Demolition Ducks \n",
            " The Ducktales \n",
            " The Powerpuff Girls \n",
            " The Care Bears \n",
            " The Groovitron \n",
            " The Toon Gang \n",
            " Daffy Duck \n",
            " Futurama \n",
            " Dr. Teeth \n",
            " The Mystery Machine \n",
            " The Powerpuff Girls (Season\n",
            "====================\n"
          ],
          "name": "stdout"
        }
      ]
    },
    {
      "cell_type": "markdown",
      "metadata": {
        "id": "ig-KVgkCDCKD",
        "colab_type": "text"
      },
      "source": [
        "# Etcetera\n",
        "\n",
        "If the notebook has errors (e.g. GPU Sync Fail), force-kill the Colaboratory virtual machine and restart it with the command below:"
      ]
    },
    {
      "cell_type": "code",
      "metadata": {
        "id": "rIHiVP53FnsX",
        "colab_type": "code",
        "colab": {}
      },
      "source": [
        "!kill -9 -1"
      ],
      "execution_count": 0,
      "outputs": []
    },
    {
      "cell_type": "markdown",
      "metadata": {
        "id": "wmTXWNUygS5E",
        "colab_type": "text"
      },
      "source": [
        "# LICENSE\n",
        "\n",
        "MIT License\n",
        "\n",
        "Copyright (c) 2019 Max Woolf\n",
        "\n",
        "Permission is hereby granted, free of charge, to any person obtaining a copy\n",
        "of this software and associated documentation files (the \"Software\"), to deal\n",
        "in the Software without restriction, including without limitation the rights\n",
        "to use, copy, modify, merge, publish, distribute, sublicense, and/or sell\n",
        "copies of the Software, and to permit persons to whom the Software is\n",
        "furnished to do so, subject to the following conditions:\n",
        "\n",
        "The above copyright notice and this permission notice shall be included in all\n",
        "copies or substantial portions of the Software.\n",
        "\n",
        "THE SOFTWARE IS PROVIDED \"AS IS\", WITHOUT WARRANTY OF ANY KIND, EXPRESS OR\n",
        "IMPLIED, INCLUDING BUT NOT LIMITED TO THE WARRANTIES OF MERCHANTABILITY,\n",
        "FITNESS FOR A PARTICULAR PURPOSE AND NONINFRINGEMENT. IN NO EVENT SHALL THE\n",
        "AUTHORS OR COPYRIGHT HOLDERS BE LIABLE FOR ANY CLAIM, DAMAGES OR OTHER\n",
        "LIABILITY, WHETHER IN AN ACTION OF CONTRACT, TORT OR OTHERWISE, ARISING FROM,\n",
        "OUT OF OR IN CONNECTION WITH THE SOFTWARE OR THE USE OR OTHER DEALINGS IN THE\n",
        "SOFTWARE."
      ]
    }
  ]
}